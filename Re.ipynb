{
 "cells": [
  {
   "cell_type": "code",
   "execution_count": 1,
   "id": "4455d7b3",
   "metadata": {},
   "outputs": [
    {
     "name": "stdout",
     "output_type": "stream",
     "text": [
      "   GVKEY LINKTYPE  LPERMNO  LPERMCO    LINKDT LINKENDDT  datadate    tic  \\\n",
      "0   3263       NR      NaN      NaN  11/30/77  10/31/17  10/31/17   CWLO   \n",
      "1   5965       NU      NaN      NaN    5/3/03         E   2/28/17   INTO   \n",
      "2   1140       NU      NaN      NaN  10/28/86   1/31/06   1/31/06  5022B   \n",
      "3   3584       NR      NaN      NaN  11/14/09         E   8/31/22   APYI   \n",
      "4   1681       NR      NaN      NaN   10/9/87   9/30/19   5/31/98   ASOE   \n",
      "\n",
      "                          conm isalrt   cshtrm curcdm  navm  prccm  prchm  \\\n",
      "0       COMMONWEALTH OIL REFIN    NaN    947.0    USD   NaN   9.00   9.00   \n",
      "1                   INITIO INC    NaN  19000.0    USD   NaN   0.25   0.25   \n",
      "2  ADVANCED COMMUNICATIONS INC    NaN   4000.0    USD   NaN   2.58   2.58   \n",
      "3                   ASPYRA INC    NaN  12021.0    USD   NaN   0.05   0.05   \n",
      "4      APOLLO SOLAR ENERGY INC    NaN  55400.0    USD   NaN   3.00   3.00   \n",
      "\n",
      "    prclm         trt1m secstat  fic ccmbegdt  \n",
      "0  9.0000  5.882400e+00       I  USA  11/1/16  \n",
      "1  0.2100  2.499990e+07       A  USA   3/1/16  \n",
      "2  2.5800           NaN       I  USA   2/1/05  \n",
      "3  0.0500  4.999900e+06       A  USA   9/1/21  \n",
      "4  0.0003  2.999900e+06       I  USA   6/1/97  \n"
     ]
    }
   ],
   "source": [
    "import pandas as pd\n",
    "import numpy as np\n",
    "data = pd.read_csv('SecurityData.csv', low_memory=False)\n",
    "print(data.head())"
   ]
  },
  {
   "cell_type": "code",
   "execution_count": 2,
   "id": "9898d9bc",
   "metadata": {},
   "outputs": [
    {
     "name": "stdout",
     "output_type": "stream",
     "text": [
      "   GVKEY  datadate         trt1m  prccm\n",
      "0   3263  10/31/17  5.882400e+00   9.00\n",
      "1   5965   2/28/17  2.499990e+07   0.25\n",
      "2   1140   1/31/06           NaN   2.58\n",
      "3   3584   8/31/22  4.999900e+06   0.05\n",
      "4   1681   5/31/98  2.999900e+06   3.00\n"
     ]
    }
   ],
   "source": [
    "# Filter the data\n",
    "df = data[['GVKEY', 'datadate', 'trt1m', 'prccm']].copy()\n",
    "print(df.head())"
   ]
  },
  {
   "cell_type": "code",
   "execution_count": 3,
   "id": "8ff3ba72",
   "metadata": {},
   "outputs": [
    {
     "name": "stdout",
     "output_type": "stream",
     "text": [
      "   GVKEY        return  close       date\n",
      "0   3263  5.882400e+00   9.00 2017-10-31\n",
      "1   5965  2.499990e+07   0.25 2017-02-28\n",
      "2   1140           NaN   2.58 2006-01-31\n",
      "3   3584  4.999900e+06   0.05 2022-08-31\n",
      "4   1681  2.999900e+06   3.00 1998-05-31\n"
     ]
    }
   ],
   "source": [
    "# Convert the date column to datetime\n",
    "df['date'] = pd.to_datetime(df['datadate'], format='%m/%d/%y', errors='coerce')\n",
    "\n",
    "# Assuming all future dates should actually be in the past, adjust the century\n",
    "df['date'] = df['date'].apply(lambda x: x if x.year <= pd.Timestamp.now().year else x - pd.DateOffset(years=100))\n",
    "df.drop('datadate', axis=1, inplace=True)\n",
    "df = df.rename(columns={'trt1m': 'return','prccm': 'close'})\n",
    "\n",
    "print(df.head())"
   ]
  },
  {
   "cell_type": "code",
   "execution_count": 4,
   "id": "30bb8346",
   "metadata": {},
   "outputs": [
    {
     "name": "stdout",
     "output_type": "stream",
     "text": [
      "         GVKEY   return  close       date  prev_close  growth_rate  \\\n",
      "1022685   1000      NaN  11.75 1970-09-30         NaN          NaN   \n",
      "258082    1000   6.3830  12.50 1970-10-31       11.75     6.382979   \n",
      "971376    1000 -28.0000   9.00 1970-11-30       12.50   -28.000000   \n",
      "162604    1000  11.1111  10.00 1970-12-31        9.00    11.111111   \n",
      "842662    1000 -10.0000   9.00 1971-01-31       10.00   -10.000000   \n",
      "\n",
      "                 diff  \n",
      "1022685           NaN  \n",
      "258082   2.127660e-05  \n",
      "971376   3.552714e-15  \n",
      "162604   1.111111e-05  \n",
      "842662   0.000000e+00  \n"
     ]
    }
   ],
   "source": [
    "# Sort the returns\n",
    "df.sort_values(by=['GVKEY', 'date'], inplace=True)\n",
    "\n",
    "# Check if the close prices on a given day and in the previous month are smaller than 1\n",
    "# If so, let the return be NaN\n",
    "df['prev_close'] = df.groupby('GVKEY')['close'].shift(1)\n",
    "\n",
    "# Exclude the abnormal data (growth_rate != return)\n",
    "df['growth_rate'] = (df['close'] - df['prev_close']) / df['prev_close'] * 100\n",
    "df['diff'] = abs(df['return'] - df['growth_rate'])\n",
    "\n",
    "df.loc[(df['prev_close'] <= 1), 'return'] = np.nan\n",
    "\n",
    "print(df.head())"
   ]
  },
  {
   "cell_type": "code",
   "execution_count": 5,
   "id": "53896c34",
   "metadata": {},
   "outputs": [
    {
     "name": "stdout",
     "output_type": "stream",
     "text": [
      "        GVKEY   return  close       date  momentum decile\n",
      "284978   1000   5.4054  4.875 1971-10-31  0.446809      1\n",
      "910835   1000 -15.3846  4.125 1971-11-30  0.370000      1\n",
      "24938    1000  39.3939  5.750 1971-12-31  0.541666      1\n",
      "556263   1000   0.0000  5.750 1972-01-31  0.412500      1\n",
      "817053   1000  -8.6957  5.250 1972-02-29  0.638888      1\n"
     ]
    }
   ],
   "source": [
    "df = df.iloc[:, :-3]\n",
    "# Calculate Momentum for the Prior (2-12) Month Period using the filtered data\n",
    "df.sort_values(by=['GVKEY', 'date'], inplace=True)\n",
    "df['momentum'] = df['return'].transform(lambda x: (x.rolling(window=11, min_periods=11).apply(lambda y: ((y / 100) + 1).prod())).shift(2))\n",
    "\n",
    "# Ensure there are no NaN values in your data\n",
    "df.dropna(subset=['momentum'], inplace=True)\n",
    "\n",
    "# Calculate Decile Breakpoints and Assign Stocks to Deciles using the filtered data\n",
    "df['decile'] = df.groupby('date')['momentum'].transform(lambda x: pd.qcut(x, 10, labels=range(1, 11)))\n",
    " \n",
    "print(df.head())"
   ]
  },
  {
   "cell_type": "code",
   "execution_count": 6,
   "id": "5aa93d46",
   "metadata": {},
   "outputs": [
    {
     "name": "stdout",
     "output_type": "stream",
     "text": [
      "        Lo PRIOR  PRIOR 2  PRIOR 3  PRIOR 4  PRIOR 5  PRIOR 6  PRIOR 7  \\\n",
      "date                                                                     \n",
      "196206     -8.45    -8.53    -7.35    -9.06    -8.74    -7.34    -5.56   \n",
      "196207      4.36     7.77     5.60     5.34     8.05     6.42     8.75   \n",
      "196208      2.50     1.79     2.79     4.32     1.62     3.08     4.41   \n",
      "196209     -4.44    -7.05    -4.35    -8.35    -6.36    -2.53    -2.83   \n",
      "196210     -0.94    -1.51    -2.91    -2.78    -0.46    -3.08    -2.34   \n",
      "...          ...      ...      ...      ...      ...      ...      ...   \n",
      "202310     -4.50    -4.06    -5.15    -2.58    -5.26    -3.91    -4.60   \n",
      "202311      8.71     7.91     7.04     8.90     8.21     6.07     6.71   \n",
      "202312     11.46     8.85     6.76     5.55     7.02     6.02     4.88   \n",
      "202401     -1.31    -1.42    -3.05    -0.32    -1.41     0.70    -1.45   \n",
      "202402       NaN      NaN      NaN      NaN      NaN      NaN      NaN   \n",
      "\n",
      "        PRIOR 8  PRIOR 9  Hi PRIOR  \n",
      "date                                \n",
      "196206    -5.83    -7.82    -10.88  \n",
      "196207     9.77     6.66      4.88  \n",
      "196208     4.09     8.23      3.09  \n",
      "196209    -1.58    -6.55     -5.29  \n",
      "196210    -2.38    -2.88     -2.31  \n",
      "...         ...      ...       ...  \n",
      "202310    -4.16    -5.66     -2.62  \n",
      "202311     5.81     9.93     10.36  \n",
      "202312     6.98     6.98     12.74  \n",
      "202401    -1.39    -1.01     -0.73  \n",
      "202402      NaN      NaN       NaN  \n",
      "\n",
      "[741 rows x 10 columns]\n"
     ]
    }
   ],
   "source": [
    "# Calculate the average return for each decile on each date and round to two decimal places\n",
    "aggregated_returns = df.groupby([df['date'].dt.strftime('%Y%m'), 'decile'], observed=True)['return'].mean().reset_index()\n",
    "aggregated_returns['return'] = aggregated_returns['return'].round(2)\n",
    "\n",
    "# Pivot the Data\n",
    "pivot_table = aggregated_returns.pivot(index='date', columns='decile', values='return')\n",
    "\n",
    "# Rename Columns for Output\n",
    "column_names = {\n",
    "    1: 'Lo PRIOR',\n",
    "    10: 'Hi PRIOR'\n",
    "}\n",
    "column_names.update({i: f'PRIOR {i}' for i in range(2, 10)})\n",
    "pivot_table.columns = [column_names.get(x, x) for x in pivot_table.columns]\n",
    "\n",
    "# Print the formatted DataFrame with two decimal places\n",
    "print(pivot_table)"
   ]
  },
  {
   "cell_type": "code",
   "execution_count": 7,
   "id": "80bb3f36",
   "metadata": {},
   "outputs": [],
   "source": [
    "pivot_table.to_csv('replicated_portfolio.csv', index=True, header=True)"
   ]
  },
  {
   "cell_type": "code",
   "execution_count": 8,
   "id": "2824c52e",
   "metadata": {},
   "outputs": [
    {
     "name": "stdout",
     "output_type": "stream",
     "text": [
      "           Date  Lo PRIOR  PRIOR 2  PRIOR 3  PRIOR 4  PRIOR 5  PRIOR 6  \\\n",
      "0    1927-01-01     -0.47     1.04     4.17     2.40    -0.31     3.08   \n",
      "1    1927-02-01      8.49     3.88     8.33     7.59     4.79     5.47   \n",
      "2    1927-03-01     -6.15    -5.11    -2.38    -1.60    -1.63    -1.70   \n",
      "3    1927-04-01      2.61    -0.93     0.10    -1.20     0.09     0.40   \n",
      "4    1927-05-01      1.12     3.73     6.01     5.17     7.55     9.27   \n",
      "...         ...       ...      ...      ...      ...      ...      ...   \n",
      "1159 2023-08-01    -12.08    -6.40    -5.72    -5.52    -3.85    -2.21   \n",
      "1160 2023-09-01    -12.11    -6.39    -6.78    -3.65    -3.35    -3.77   \n",
      "1161 2023-10-01    -11.82    -8.04    -5.47    -4.49    -5.69    -4.99   \n",
      "1162 2023-11-01      7.80     8.71     7.19     8.15     7.74     5.38   \n",
      "1163 2023-12-01     15.16    13.28    14.01    11.92    10.53     9.33   \n",
      "\n",
      "      PRIOR 7  PRIOR 8  PRIOR 9  Hi PRIOR  \n",
      "0        1.48     0.64    -0.59      1.18  \n",
      "1        5.40     4.30     5.76      5.58  \n",
      "2        0.49    -1.53     0.37     -0.78  \n",
      "3        1.27    -0.57     2.22      4.42  \n",
      "4        6.61     8.21     6.91     10.00  \n",
      "...       ...      ...      ...       ...  \n",
      "1159    -3.58    -4.47    -3.96     -5.45  \n",
      "1160    -5.74    -5.82    -6.12     -5.50  \n",
      "1161    -4.78    -6.17    -6.48     -8.74  \n",
      "1162     8.01     9.97    10.45     12.33  \n",
      "1163     6.59     6.75     8.42     13.21  \n",
      "\n",
      "[1164 rows x 11 columns]\n"
     ]
    }
   ],
   "source": [
    "fama = pd.read_csv('10_Portfolios_Prior_12_2.csv',skiprows=1178,nrows=1164)\n",
    "fama['Unnamed: 0'] = pd.to_datetime(fama['Unnamed: 0'], format='%Y%m')\n",
    "fama.rename(columns={'Unnamed: 0': 'Date'}, inplace=True)\n",
    "print(fama)"
   ]
  },
  {
   "cell_type": "code",
   "execution_count": 9,
   "id": "d1e572a1",
   "metadata": {},
   "outputs": [
    {
     "name": "stdout",
     "output_type": "stream",
     "text": [
      "          Date  Lo PRIOR  PRIOR 2  PRIOR 3  PRIOR 4  PRIOR 5  PRIOR 6  \\\n",
      "0   1962-06-01     -8.45    -8.53    -7.35    -9.06    -8.74    -7.34   \n",
      "1   1962-07-01      4.36     7.77     5.60     5.34     8.05     6.42   \n",
      "2   1962-08-01      2.50     1.79     2.79     4.32     1.62     3.08   \n",
      "3   1962-09-01     -4.44    -7.05    -4.35    -8.35    -6.36    -2.53   \n",
      "4   1962-10-01     -0.94    -1.51    -2.91    -2.78    -0.46    -3.08   \n",
      "..         ...       ...      ...      ...      ...      ...      ...   \n",
      "736 2023-10-01     -4.50    -4.06    -5.15    -2.58    -5.26    -3.91   \n",
      "737 2023-11-01      8.71     7.91     7.04     8.90     8.21     6.07   \n",
      "738 2023-12-01     11.46     8.85     6.76     5.55     7.02     6.02   \n",
      "739 2024-01-01     -1.31    -1.42    -3.05    -0.32    -1.41     0.70   \n",
      "740 2024-02-01       NaN      NaN      NaN      NaN      NaN      NaN   \n",
      "\n",
      "     PRIOR 7  PRIOR 8  PRIOR 9  Hi PRIOR  \n",
      "0      -5.56    -5.83    -7.82    -10.88  \n",
      "1       8.75     9.77     6.66      4.88  \n",
      "2       4.41     4.09     8.23      3.09  \n",
      "3      -2.83    -1.58    -6.55     -5.29  \n",
      "4      -2.34    -2.38    -2.88     -2.31  \n",
      "..       ...      ...      ...       ...  \n",
      "736    -4.60    -4.16    -5.66     -2.62  \n",
      "737     6.71     5.81     9.93     10.36  \n",
      "738     4.88     6.98     6.98     12.74  \n",
      "739    -1.45    -1.39    -1.01     -0.73  \n",
      "740      NaN      NaN      NaN       NaN  \n",
      "\n",
      "[741 rows x 11 columns]\n"
     ]
    }
   ],
   "source": [
    "estimation = pd.read_csv('replicated_portfolio.csv')\n",
    "estimation['date'] = pd.to_datetime(estimation['date'], format='%Y%m')\n",
    "estimation.rename(columns={'date': 'Date'}, inplace=True)\n",
    "print(estimation)"
   ]
  },
  {
   "cell_type": "code",
   "execution_count": 10,
   "id": "67919b26",
   "metadata": {},
   "outputs": [
    {
     "name": "stdout",
     "output_type": "stream",
     "text": [
      "               Lo PRIOR_estimation  PRIOR 2_estimation  PRIOR 3_estimation  \\\n",
      "Lo PRIOR_fama             0.905793            0.859230            0.820893   \n",
      "PRIOR 2_fama              0.925836            0.944899            0.930214   \n",
      "PRIOR 3_fama              0.912450            0.952180            0.954771   \n",
      "PRIOR 4_fama              0.892144            0.938708            0.950240   \n",
      "PRIOR 5_fama              0.877822            0.928663            0.942137   \n",
      "PRIOR 6_fama              0.848168            0.900298            0.922248   \n",
      "PRIOR 7_fama              0.821848            0.871554            0.900909   \n",
      "PRIOR 8_fama              0.806830            0.846696            0.871943   \n",
      "PRIOR 9_fama              0.768592            0.801163            0.830510   \n",
      "Hi PRIOR_fama             0.718819            0.729652            0.751010   \n",
      "\n",
      "               PRIOR 4_estimation  PRIOR 5_estimation  PRIOR 6_estimation  \\\n",
      "Lo PRIOR_fama            0.787245            0.760519            0.744249   \n",
      "PRIOR 2_fama             0.899990            0.881398            0.865199   \n",
      "PRIOR 3_fama             0.932935            0.919909            0.908941   \n",
      "PRIOR 4_fama             0.944567            0.941651            0.933442   \n",
      "PRIOR 5_fama             0.938620            0.951865            0.949397   \n",
      "PRIOR 6_fama             0.920969            0.946552            0.957874   \n",
      "PRIOR 7_fama             0.905663            0.931522            0.947509   \n",
      "PRIOR 8_fama             0.881505            0.911514            0.929599   \n",
      "PRIOR 9_fama             0.841371            0.877100            0.899904   \n",
      "Hi PRIOR_fama            0.758290            0.794905            0.822629   \n",
      "\n",
      "               PRIOR 7_estimation  PRIOR 8_estimation  PRIOR 9_estimation  \\\n",
      "Lo PRIOR_fama            0.715330            0.692737            0.685054   \n",
      "PRIOR 2_fama             0.831302            0.796280            0.779967   \n",
      "PRIOR 3_fama             0.870974            0.838456            0.822058   \n",
      "PRIOR 4_fama             0.906324            0.872153            0.861602   \n",
      "PRIOR 5_fama             0.922452            0.899214            0.887179   \n",
      "PRIOR 6_fama             0.940584            0.920587            0.911648   \n",
      "PRIOR 7_fama             0.948941            0.933886            0.929194   \n",
      "PRIOR 8_fama             0.933918            0.945652            0.943582   \n",
      "PRIOR 9_fama             0.909667            0.927483            0.950620   \n",
      "Hi PRIOR_fama            0.834339            0.869140            0.908223   \n",
      "\n",
      "               Hi PRIOR_estimation  \n",
      "Lo PRIOR_fama             0.651647  \n",
      "PRIOR 2_fama              0.731641  \n",
      "PRIOR 3_fama              0.758251  \n",
      "PRIOR 4_fama              0.793488  \n",
      "PRIOR 5_fama              0.818758  \n",
      "PRIOR 6_fama              0.844874  \n",
      "PRIOR 7_fama              0.870418  \n",
      "PRIOR 8_fama              0.898647  \n",
      "PRIOR 9_fama              0.923793  \n",
      "Hi PRIOR_fama             0.934159  \n",
      "Correlation between corresponding columns:\n",
      "[0.90579302 0.94489859 0.954771   0.9445667  0.95186519 0.9578738\n",
      " 0.94894067 0.94565246 0.95062004 0.93415903]\n"
     ]
    }
   ],
   "source": [
    "# Merge the two dataframes based on 'Date' column\n",
    "merged_df = pd.merge(fama, estimation, on='Date', suffixes=('_fama', '_estimation'))\n",
    "\n",
    "# Remove rows with missing values\n",
    "merged_df.dropna(inplace=True)\n",
    "\n",
    "# Calculate correlation between corresponding columns\n",
    "correlation_matrix = merged_df.corr()\n",
    "\n",
    "#Filter correlation values for desired columns\n",
    "correlation_values = correlation_matrix.loc['Lo PRIOR_fama':'Hi PRIOR_fama', 'Lo PRIOR_estimation':'Hi PRIOR_estimation']\n",
    "\n",
    "print(correlation_values)\n",
    "\n",
    "diagonal_correlation = correlation_values.values.diagonal()\n",
    "print(\"Correlation between corresponding columns:\")\n",
    "print(diagonal_correlation)"
   ]
  }
 ],
 "metadata": {
  "kernelspec": {
   "display_name": "Python 3 (ipykernel)",
   "language": "python",
   "name": "python3"
  },
  "language_info": {
   "codemirror_mode": {
    "name": "ipython",
    "version": 3
   },
   "file_extension": ".py",
   "mimetype": "text/x-python",
   "name": "python",
   "nbconvert_exporter": "python",
   "pygments_lexer": "ipython3",
   "version": "3.11.5"
  }
 },
 "nbformat": 4,
 "nbformat_minor": 5
}
